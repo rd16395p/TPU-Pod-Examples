{
  "nbformat": 4,
  "nbformat_minor": 0,
  "metadata": {
    "kernelspec": {
      "name": "python3",
      "display_name": "Python 3"
    },
    "language_info": {
      "codemirror_mode": {
        "name": "ipython",
        "version": 3
      },
      "file_extension": ".py",
      "mimetype": "text/x-python",
      "name": "python",
      "nbconvert_exporter": "python",
      "pygments_lexer": "ipython3",
      "version": "3.7.3"
    },
    "colab": {
      "name": "Iris_TPU_Pod_Example.ipynb",
      "provenance": [],
      "collapsed_sections": []
    },
    "accelerator": "TPU"
  },
  "cells": [
    {
      "cell_type": "markdown",
      "metadata": {
        "id": "bVydalel8wB3",
        "colab_type": "text"
      },
      "source": [
        "![alt text](https://)This code was orginally found here by the tensorflow team:\n",
        "https://github.com/tensorflow/tpu/tree/master/models/samples/core/get_started\n",
        "\n",
        "Please fill out the values in the box below before running the whole notebook!\n",
        "Also, this will either work as a .py file or as a notebook in collab."
      ]
    },
    {
      "cell_type": "markdown",
      "metadata": {
        "id": "m--0q9oZ_dew",
        "colab_type": "text"
      },
      "source": [
        "Creates the directory for the model be saved and checks for the directory"
      ]
    },
    {
      "cell_type": "code",
      "metadata": {
        "id": "a9y0GZvA_c1H",
        "colab_type": "code",
        "outputId": "a4172d9a-7ed6-4a5a-ddfb-c60c008243d3",
        "colab": {
          "base_uri": "https://localhost:8080/",
          "height": 53
        }
      },
      "source": [
        "!mkdir irisdata\n",
        "!ls"
      ],
      "execution_count": 58,
      "outputs": [
        {
          "output_type": "stream",
          "text": [
            "mkdir: cannot create directory ‘irisdata’: File exists\n",
            "adc.json  irisdata  sample_data\n"
          ],
          "name": "stdout"
        }
      ]
    },
    {
      "cell_type": "markdown",
      "metadata": {
        "id": "PC02N5ss_yvu",
        "colab_type": "text"
      },
      "source": [
        "Parameter setup"
      ]
    },
    {
      "cell_type": "code",
      "metadata": {
        "id": "OKnj-Dokl_Of",
        "colab_type": "code",
        "colab": {
          "base_uri": "https://localhost:8080/",
          "height": 271
        },
        "outputId": "b012cc43-a43c-401d-b4a5-659bd927fedb"
      },
      "source": [
        "import time \n",
        "import json\n",
        "import pprint\n",
        "\n",
        "use_tpu = True #@param {type:\"boolean\"}\n",
        "bucket = 'sweetc' #@param {type:\"string\"}\n",
        "\n",
        "assert bucket, 'Must specify an existing GCS bucket name'\n",
        "print('Using bucket: {}'.format(bucket))\n",
        "\n",
        "\n",
        "model_dir = 'gs://{}/{}'.format(bucket, time.strftime('tpuestimator-dnn/%Y-%m-%d-%H-%M-%S'))\n",
        "print('Using model dir: {}'.format(model_dir))\n",
        "\n",
        "from google.colab import auth\n",
        "auth.authenticate_user()\n",
        "\n",
        "if 'COLAB_TPU_ADDR' in os.environ:\n",
        "  TF_MASTER = 'grpc://{}'.format(os.environ['COLAB_TPU_ADDR'])\n",
        "\n",
        "  # Upload credentials to TPU.\n",
        "  with tf.Session(TF_MASTER) as sess:\n",
        "    with open('/content/adc.json', 'r') as f:\n",
        "      auth_info = json.load(f)\n",
        "else:\n",
        "  TF_MASTER=''\n",
        "\n",
        "with tf.Session(TF_MASTER) as session:\n",
        "  print ('List of devices:')\n",
        "  pprint.pprint(session.list_devices())"
      ],
      "execution_count": 59,
      "outputs": [
        {
          "output_type": "stream",
          "text": [
            "Using bucket: sweetc\n",
            "Using model dir: gs://sweetc/tpuestimator-dnn/2020-03-09-23-31-58\n",
            "List of devices:\n",
            "[_DeviceAttributes(/job:tpu_worker/replica:0/task:0/device:CPU:0, CPU, -1, 17538401081182207055),\n",
            " _DeviceAttributes(/job:tpu_worker/replica:0/task:0/device:XLA_CPU:0, XLA_CPU, 17179869184, 3395095972937578274),\n",
            " _DeviceAttributes(/job:tpu_worker/replica:0/task:0/device:TPU:0, TPU, 17179869184, 874212400741116587),\n",
            " _DeviceAttributes(/job:tpu_worker/replica:0/task:0/device:TPU:1, TPU, 17179869184, 8680662906555072639),\n",
            " _DeviceAttributes(/job:tpu_worker/replica:0/task:0/device:TPU:2, TPU, 17179869184, 12331013487340557674),\n",
            " _DeviceAttributes(/job:tpu_worker/replica:0/task:0/device:TPU:3, TPU, 17179869184, 15652422744169196498),\n",
            " _DeviceAttributes(/job:tpu_worker/replica:0/task:0/device:TPU:4, TPU, 17179869184, 15706229582512420389),\n",
            " _DeviceAttributes(/job:tpu_worker/replica:0/task:0/device:TPU:5, TPU, 17179869184, 4041186063180486278),\n",
            " _DeviceAttributes(/job:tpu_worker/replica:0/task:0/device:TPU:6, TPU, 17179869184, 7051489690465344933),\n",
            " _DeviceAttributes(/job:tpu_worker/replica:0/task:0/device:TPU:7, TPU, 17179869184, 17165092992475049196),\n",
            " _DeviceAttributes(/job:tpu_worker/replica:0/task:0/device:TPU_SYSTEM:0, TPU_SYSTEM, 8589934592, 16972376991937641397)]\n"
          ],
          "name": "stdout"
        }
      ]
    },
    {
      "cell_type": "code",
      "metadata": {
        "id": "zZFoFMhJ8wCA",
        "colab_type": "code",
        "colab": {}
      },
      "source": [
        "from __future__ import absolute_import\n",
        "from __future__ import division\n",
        "from __future__ import print_function\n",
        "\n",
        "from tensorflow.contrib import cluster_resolver as contrib_cluster_resolver\n",
        "from tensorflow.contrib import tpu as contrib_tpu\n",
        "import pandas as pd\n",
        "import tensorflow.compat.v1 as tf\n",
        "import os\n",
        "\n",
        "# Cloud TPU Cluster Resolver flags\n",
        "'''\n",
        "The Cloud TPU to use for training. This should be the name used when \n",
        "creating the Cloud TPU. To find out hte name of TPU, either use command \n",
        "gcloud compute tpus list --zone=<zone-name>', or use \n",
        "ctpu status --details' if you have created Cloud TPU using ctpu up.\n",
        "This code is for collab, to change it to work locally, use the IP or name where\n",
        "the os.environ is located. \n",
        "'''\n",
        "\n",
        "tpu = 'grpc://' + os.environ['COLAB_TPU_ADDR']\n",
        "\n",
        "# Model specific parameters\n",
        "'''\n",
        "This should be the path of GCS bucket or a local directory which will be used as \n",
        "model_directory to export the checkpoints during training.\n",
        "'''\n",
        "\n",
        "#model_dir = 'gs://sweetc'\n",
        "\n",
        "'''\n",
        "This is the global batch size and not the per-shard batch.\n",
        "'''\n",
        "batch_size=8\n",
        "\n",
        "'''\n",
        "Total number of training steps.\n",
        "'''\n",
        "train_steps=1000\n",
        "\n",
        "# TPU specific parameters.\n",
        "'''\n",
        "True, if want to run the model on TPU. False, otherwise.\n",
        "'''\n",
        "use_tpu=True\n",
        "\n",
        "'''\n",
        "Number of iterations per TPU training loop.\n",
        "'''\n",
        "iterations = 500"
      ],
      "execution_count": 0,
      "outputs": []
    },
    {
      "cell_type": "markdown",
      "metadata": {
        "id": "urU--Zny8wCn",
        "colab_type": "text"
      },
      "source": [
        "Set up for data download "
      ]
    },
    {
      "cell_type": "code",
      "metadata": {
        "id": "VFwchJPp8wCr",
        "colab_type": "code",
        "colab": {}
      },
      "source": [
        "TRAIN_URL = 'http://download.tensorflow.org/data/iris_training.csv'\n",
        "TEST_URL = 'http://download.tensorflow.org/data/iris_test.csv'\n",
        "\n",
        "CSV_COLUMN_NAMES = ['SepalLength', 'SepalWidth',\n",
        "                    'PetalLength', 'PetalWidth', 'Species']\n",
        "SPECIES = ['Setosa', 'Versicolor', 'Virginica']"
      ],
      "execution_count": 0,
      "outputs": []
    },
    {
      "cell_type": "markdown",
      "metadata": {
        "id": "SJ-rAkAF8wC7",
        "colab_type": "text"
      },
      "source": [
        "Download data"
      ]
    },
    {
      "cell_type": "code",
      "metadata": {
        "id": "_B1lcrKE8wDB",
        "colab_type": "code",
        "colab": {}
      },
      "source": [
        "def download_path():\n",
        "  train_path = tf.keras.utils.get_file(TRAIN_URL.split('/')[-1], TRAIN_URL)\n",
        "  test_path = tf.keras.utils.get_file(TEST_URL.split('/')[-1], TEST_URL)\n",
        "\n",
        "  return train_path, test_path\n",
        "\n",
        "\n",
        "def load_data(y_name='Species'):\n",
        "  \"\"\"Returns the iris dataset as (train_x, train_y), (test_x, test_y).\"\"\"\n",
        "  train_path, test_path = download_path()\n",
        "\n",
        "  train = pd.read_csv(train_path, names=CSV_COLUMN_NAMES, header=0,\n",
        "                      dtype={'SepalLength': pd.np.float32,\n",
        "                             'SepalWidth': pd.np.float32,\n",
        "                             'PetalLength': pd.np.float32,\n",
        "                             'PetalWidth': pd.np.float32,\n",
        "                             'Species': pd.np.int32})\n",
        "  train_x, train_y = train, train.pop(y_name)\n",
        "\n",
        "  test = pd.read_csv(test_path, names=CSV_COLUMN_NAMES, header=0,\n",
        "                     dtype={'SepalLength': pd.np.float32,\n",
        "                            'SepalWidth': pd.np.float32,\n",
        "                            'PetalLength': pd.np.float32,\n",
        "                            'PetalWidth': pd.np.float32,\n",
        "                            'Species': pd.np.int32})\n",
        "  test_x, test_y = test, test.pop(y_name)\n",
        "\n",
        "  return (train_x, train_y), (test_x, test_y)"
      ],
      "execution_count": 0,
      "outputs": []
    },
    {
      "cell_type": "markdown",
      "metadata": {
        "id": "ShujsL_R8wDO",
        "colab_type": "text"
      },
      "source": [
        "Data input and metric functions"
      ]
    },
    {
      "cell_type": "code",
      "metadata": {
        "id": "OGgycM9I8wDT",
        "colab_type": "code",
        "colab": {}
      },
      "source": [
        "def train_input_fn(features, labels, batch_size):\n",
        "  \"\"\"An input function for training.\"\"\"\n",
        "\n",
        "  # Convert the inputs to a Dataset.\n",
        "  dataset = tf.data.Dataset.from_tensor_slices((dict(features), labels))\n",
        "\n",
        "  # Shuffle, repeat, and batch the examples.\n",
        "  dataset = dataset.shuffle(1000).repeat()\n",
        "\n",
        "  dataset = dataset.batch(batch_size, drop_remainder=True)\n",
        "\n",
        "  # Return the dataset.\n",
        "  return dataset\n",
        "\n",
        "def metric_fn(labels, logits):\n",
        "    \"\"\"Function to return metrics for evaluation.\"\"\"\n",
        "\n",
        "    predicted_classes = tf.argmax(logits, 1)\n",
        "    accuracy = tf.metrics.accuracy(labels=labels,\n",
        "                                   predictions=predicted_classes,\n",
        "                                   name=\"acc_op\")\n",
        "    return {\"accuracy\": accuracy}"
      ],
      "execution_count": 0,
      "outputs": []
    },
    {
      "cell_type": "markdown",
      "metadata": {
        "id": "jWYXdEsx8wDg",
        "colab_type": "text"
      },
      "source": [
        "Model "
      ]
    },
    {
      "cell_type": "code",
      "metadata": {
        "id": "pl53ZiNH8wDk",
        "colab_type": "code",
        "colab": {}
      },
      "source": [
        "def my_model(features, labels, mode, params):\n",
        "    \"\"\"Deep Neural Network(DNN) model.\n",
        "    This is a DNN Model with 3 hidden layers. First 2 hidden layers are having\n",
        "    10 neurons in each. And number of neurons in the last layer is equal to the\n",
        "    number of output classes. This is a densely connected network where each\n",
        "    neuron of previous layer is connected to each neuron of next layer.\n",
        "    Args:\n",
        "      features: Feature values for input samples.\n",
        "      labels: label/class assigned to the corresponding input sample.\n",
        "      mode: \"TRAIN\"/\"EVAL\"/\"PREDICT\"\n",
        "      params: Dictionary used to pass extra parameters to model function from\n",
        "        the main function.\n",
        "    Returns:\n",
        "      TPUEstimator object.\n",
        "    \"\"\"\n",
        "\n",
        "    # Create three fully connected layers.\n",
        "    net = tf.feature_column.input_layer(features, params[\"feature_columns\"])\n",
        "    for units in params[\"hidden_units\"]:\n",
        "      net = tf.layers.dense(net, units=units, activation=tf.nn.relu)\n",
        "\n",
        "    # Compute logits (1 per class).\n",
        "    logits = tf.layers.dense(net, params[\"n_classes\"], activation=None)\n",
        "\n",
        "    # Compute predictions.\n",
        "    predicted_classes = tf.argmax(logits, 1)\n",
        "    if mode == tf.estimator.ModeKeys.PREDICT:\n",
        "      predictions = {\n",
        "          \"class_ids\": predicted_classes[:, tf.newaxis],\n",
        "          \"probabilities\": tf.nn.softmax(logits),\n",
        "          \"logits\": logits,\n",
        "      }\n",
        "      return contrib_tpu.TPUEstimatorSpec(mode, predictions=predictions)\n",
        "\n",
        "    # Compute loss.\n",
        "    loss = tf.losses.sparse_softmax_cross_entropy(labels=labels,\n",
        "                                                  logits=logits)\n",
        "\n",
        "    if mode == tf.estimator.ModeKeys.EVAL:\n",
        "      return contrib_tpu.TPUEstimatorSpec(\n",
        "          mode=mode, loss=loss, eval_metrics=(metric_fn, [labels, logits]))\n",
        "\n",
        "    # Create training op.\n",
        "    if mode == tf.estimator.ModeKeys.TRAIN:\n",
        "      optimizer = tf.train.AdagradOptimizer(learning_rate=0.1)\n",
        "      if use_tpu:\n",
        "        optimizer = contrib_tpu.CrossShardOptimizer(optimizer)\n",
        "      train_op = optimizer.minimize(loss, global_step=tf.train.get_global_step())\n",
        "      return contrib_tpu.TPUEstimatorSpec(mode, loss=loss, train_op=train_op)"
      ],
      "execution_count": 0,
      "outputs": []
    },
    {
      "cell_type": "markdown",
      "metadata": {
        "id": "WiOrAOhH8wDt",
        "colab_type": "text"
      },
      "source": [
        "Main code to run the whole thing "
      ]
    },
    {
      "cell_type": "code",
      "metadata": {
        "id": "R9Viogcu8wDw",
        "colab_type": "code",
        "outputId": "6cd9a51a-0e8a-4926-b34b-467f790bbe87",
        "colab": {
          "base_uri": "https://localhost:8080/",
          "height": 1000
        }
      },
      "source": [
        "def main(argv):\n",
        "    del argv  # Unused\n",
        "\n",
        "    # Fetch the data\n",
        "    (train_x, train_y), (test_x, test_y) = load_data()\n",
        "\n",
        "    # Feature columns describe how to use the input.\n",
        "    my_feature_columns = []\n",
        "    for key in train_x.keys():\n",
        "      my_feature_columns.append(tf.feature_column.numeric_column(key=key))\n",
        "\n",
        "    # Resolve TPU cluster and runconfig for this.\n",
        "    tpu_cluster_resolver = contrib_cluster_resolver.TPUClusterResolver(tpu)\n",
        "\n",
        "    run_config = contrib_tpu.RunConfig(\n",
        "        model_dir=model_dir,\n",
        "        cluster=tpu_cluster_resolver,\n",
        "        session_config=tf.ConfigProto(\n",
        "            allow_soft_placement=True, log_device_placement=True),\n",
        "        tpu_config=contrib_tpu.TPUConfig(iterations),\n",
        "    )\n",
        "\n",
        "    # Build 2 hidden layer DNN with 10, 10 units respectively.\n",
        "    classifier = contrib_tpu.TPUEstimator(\n",
        "        model_fn=my_model,\n",
        "        use_tpu=use_tpu,\n",
        "        train_batch_size=batch_size,\n",
        "        eval_batch_size=batch_size,\n",
        "        predict_batch_size=batch_size,\n",
        "        config=run_config,\n",
        "        params={\n",
        "            # Name of the feature columns in the input data.\n",
        "            \"feature_columns\": my_feature_columns,\n",
        "            # Two hidden layers of 10 nodes each.\n",
        "            \"hidden_units\": [10, 10],\n",
        "            # The model must choose between 3 classes.\n",
        "            \"n_classes\": 3,\n",
        "            \"use_tpu\": use_tpu,\n",
        "        })\n",
        "\n",
        "    # Train the Model.\n",
        "    classifier.train(\n",
        "        input_fn=lambda params: train_input_fn(\n",
        "            train_x, train_y, params[\"batch_size\"]),\n",
        "        max_steps=train_steps)\n",
        "\n",
        "    #To eval and prediction, use a smaller tpu such as v3-8. \n",
        "\n",
        "if __name__ == \"__main__\":\n",
        "  tf.logging.set_verbosity(tf.logging.INFO)\n",
        "  tf.app.run(main)\n"
      ],
      "execution_count": 65,
      "outputs": [
        {
          "output_type": "stream",
          "text": [
            "INFO:tensorflow:Using config: {'_model_dir': 'gs://sweetc/tpuestimator-dnn/2020-03-09-23-31-58', '_tf_random_seed': None, '_save_summary_steps': 100, '_save_checkpoints_steps': None, '_save_checkpoints_secs': 600, '_session_config': allow_soft_placement: true\n",
            "log_device_placement: true\n",
            "cluster_def {\n",
            "  job {\n",
            "    name: \"worker\"\n",
            "    tasks {\n",
            "      key: 0\n",
            "      value: \"10.90.92.50:8470\"\n",
            "    }\n",
            "  }\n",
            "}\n",
            ", '_keep_checkpoint_max': 5, '_keep_checkpoint_every_n_hours': 10000, '_log_step_count_steps': None, '_train_distribute': None, '_device_fn': None, '_protocol': None, '_eval_distribute': None, '_experimental_distribute': None, '_experimental_max_worker_delay_secs': None, '_session_creation_timeout_secs': 7200, '_service': None, '_cluster_spec': <tensorflow.python.training.server_lib.ClusterSpec object at 0x7f1a4c9d0ba8>, '_task_type': 'worker', '_task_id': 0, '_global_id_in_cluster': 0, '_master': 'grpc://10.90.92.50:8470', '_evaluation_master': 'grpc://10.90.92.50:8470', '_is_chief': True, '_num_ps_replicas': 0, '_num_worker_replicas': 1, '_tpu_config': TPUConfig(iterations_per_loop=500, num_shards=None, num_cores_per_replica=None, per_host_input_for_training=2, tpu_job_name=None, initial_infeed_sleep_secs=None, input_partition_dims=None, eval_training_input_configuration=2, experimental_host_call_every_n_steps=1), '_cluster': <tensorflow.python.distribute.cluster_resolver.tpu_cluster_resolver.TPUClusterResolver object at 0x7f1a4c9d0278>}\n"
          ],
          "name": "stdout"
        },
        {
          "output_type": "stream",
          "text": [
            "I0309 23:31:59.965969 139752863999872 estimator.py:212] Using config: {'_model_dir': 'gs://sweetc/tpuestimator-dnn/2020-03-09-23-31-58', '_tf_random_seed': None, '_save_summary_steps': 100, '_save_checkpoints_steps': None, '_save_checkpoints_secs': 600, '_session_config': allow_soft_placement: true\n",
            "log_device_placement: true\n",
            "cluster_def {\n",
            "  job {\n",
            "    name: \"worker\"\n",
            "    tasks {\n",
            "      key: 0\n",
            "      value: \"10.90.92.50:8470\"\n",
            "    }\n",
            "  }\n",
            "}\n",
            ", '_keep_checkpoint_max': 5, '_keep_checkpoint_every_n_hours': 10000, '_log_step_count_steps': None, '_train_distribute': None, '_device_fn': None, '_protocol': None, '_eval_distribute': None, '_experimental_distribute': None, '_experimental_max_worker_delay_secs': None, '_session_creation_timeout_secs': 7200, '_service': None, '_cluster_spec': <tensorflow.python.training.server_lib.ClusterSpec object at 0x7f1a4c9d0ba8>, '_task_type': 'worker', '_task_id': 0, '_global_id_in_cluster': 0, '_master': 'grpc://10.90.92.50:8470', '_evaluation_master': 'grpc://10.90.92.50:8470', '_is_chief': True, '_num_ps_replicas': 0, '_num_worker_replicas': 1, '_tpu_config': TPUConfig(iterations_per_loop=500, num_shards=None, num_cores_per_replica=None, per_host_input_for_training=2, tpu_job_name=None, initial_infeed_sleep_secs=None, input_partition_dims=None, eval_training_input_configuration=2, experimental_host_call_every_n_steps=1), '_cluster': <tensorflow.python.distribute.cluster_resolver.tpu_cluster_resolver.TPUClusterResolver object at 0x7f1a4c9d0278>}\n"
          ],
          "name": "stderr"
        },
        {
          "output_type": "stream",
          "text": [
            "INFO:tensorflow:_TPUContext: eval_on_tpu True\n"
          ],
          "name": "stdout"
        },
        {
          "output_type": "stream",
          "text": [
            "I0309 23:31:59.968578 139752863999872 tpu_context.py:220] _TPUContext: eval_on_tpu True\n"
          ],
          "name": "stderr"
        },
        {
          "output_type": "stream",
          "text": [
            "INFO:tensorflow:Querying Tensorflow master (grpc://10.90.92.50:8470) for TPU system metadata.\n"
          ],
          "name": "stdout"
        },
        {
          "output_type": "stream",
          "text": [
            "I0309 23:32:00.200323 139752863999872 tpu_system_metadata.py:78] Querying Tensorflow master (grpc://10.90.92.50:8470) for TPU system metadata.\n"
          ],
          "name": "stderr"
        },
        {
          "output_type": "stream",
          "text": [
            "INFO:tensorflow:Found TPU system:\n"
          ],
          "name": "stdout"
        },
        {
          "output_type": "stream",
          "text": [
            "I0309 23:32:00.218213 139752863999872 tpu_system_metadata.py:148] Found TPU system:\n"
          ],
          "name": "stderr"
        },
        {
          "output_type": "stream",
          "text": [
            "INFO:tensorflow:*** Num TPU Cores: 8\n"
          ],
          "name": "stdout"
        },
        {
          "output_type": "stream",
          "text": [
            "I0309 23:32:00.219884 139752863999872 tpu_system_metadata.py:149] *** Num TPU Cores: 8\n"
          ],
          "name": "stderr"
        },
        {
          "output_type": "stream",
          "text": [
            "INFO:tensorflow:*** Num TPU Workers: 1\n"
          ],
          "name": "stdout"
        },
        {
          "output_type": "stream",
          "text": [
            "I0309 23:32:00.222041 139752863999872 tpu_system_metadata.py:150] *** Num TPU Workers: 1\n"
          ],
          "name": "stderr"
        },
        {
          "output_type": "stream",
          "text": [
            "INFO:tensorflow:*** Num TPU Cores Per Worker: 8\n"
          ],
          "name": "stdout"
        },
        {
          "output_type": "stream",
          "text": [
            "I0309 23:32:00.223954 139752863999872 tpu_system_metadata.py:152] *** Num TPU Cores Per Worker: 8\n"
          ],
          "name": "stderr"
        },
        {
          "output_type": "stream",
          "text": [
            "INFO:tensorflow:*** Available Device: _DeviceAttributes(/job:worker/replica:0/task:0/device:CPU:0, CPU, -1, 17538401081182207055)\n"
          ],
          "name": "stdout"
        },
        {
          "output_type": "stream",
          "text": [
            "I0309 23:32:00.226394 139752863999872 tpu_system_metadata.py:154] *** Available Device: _DeviceAttributes(/job:worker/replica:0/task:0/device:CPU:0, CPU, -1, 17538401081182207055)\n"
          ],
          "name": "stderr"
        },
        {
          "output_type": "stream",
          "text": [
            "INFO:tensorflow:*** Available Device: _DeviceAttributes(/job:worker/replica:0/task:0/device:TPU:0, TPU, 17179869184, 874212400741116587)\n"
          ],
          "name": "stdout"
        },
        {
          "output_type": "stream",
          "text": [
            "I0309 23:32:00.228409 139752863999872 tpu_system_metadata.py:154] *** Available Device: _DeviceAttributes(/job:worker/replica:0/task:0/device:TPU:0, TPU, 17179869184, 874212400741116587)\n"
          ],
          "name": "stderr"
        },
        {
          "output_type": "stream",
          "text": [
            "INFO:tensorflow:*** Available Device: _DeviceAttributes(/job:worker/replica:0/task:0/device:TPU:1, TPU, 17179869184, 8680662906555072639)\n"
          ],
          "name": "stdout"
        },
        {
          "output_type": "stream",
          "text": [
            "I0309 23:32:00.230492 139752863999872 tpu_system_metadata.py:154] *** Available Device: _DeviceAttributes(/job:worker/replica:0/task:0/device:TPU:1, TPU, 17179869184, 8680662906555072639)\n"
          ],
          "name": "stderr"
        },
        {
          "output_type": "stream",
          "text": [
            "INFO:tensorflow:*** Available Device: _DeviceAttributes(/job:worker/replica:0/task:0/device:TPU:2, TPU, 17179869184, 12331013487340557674)\n"
          ],
          "name": "stdout"
        },
        {
          "output_type": "stream",
          "text": [
            "I0309 23:32:00.236682 139752863999872 tpu_system_metadata.py:154] *** Available Device: _DeviceAttributes(/job:worker/replica:0/task:0/device:TPU:2, TPU, 17179869184, 12331013487340557674)\n"
          ],
          "name": "stderr"
        },
        {
          "output_type": "stream",
          "text": [
            "INFO:tensorflow:*** Available Device: _DeviceAttributes(/job:worker/replica:0/task:0/device:TPU:3, TPU, 17179869184, 15652422744169196498)\n"
          ],
          "name": "stdout"
        },
        {
          "output_type": "stream",
          "text": [
            "I0309 23:32:00.238817 139752863999872 tpu_system_metadata.py:154] *** Available Device: _DeviceAttributes(/job:worker/replica:0/task:0/device:TPU:3, TPU, 17179869184, 15652422744169196498)\n"
          ],
          "name": "stderr"
        },
        {
          "output_type": "stream",
          "text": [
            "INFO:tensorflow:*** Available Device: _DeviceAttributes(/job:worker/replica:0/task:0/device:TPU:4, TPU, 17179869184, 15706229582512420389)\n"
          ],
          "name": "stdout"
        },
        {
          "output_type": "stream",
          "text": [
            "I0309 23:32:00.241082 139752863999872 tpu_system_metadata.py:154] *** Available Device: _DeviceAttributes(/job:worker/replica:0/task:0/device:TPU:4, TPU, 17179869184, 15706229582512420389)\n"
          ],
          "name": "stderr"
        },
        {
          "output_type": "stream",
          "text": [
            "INFO:tensorflow:*** Available Device: _DeviceAttributes(/job:worker/replica:0/task:0/device:TPU:5, TPU, 17179869184, 4041186063180486278)\n"
          ],
          "name": "stdout"
        },
        {
          "output_type": "stream",
          "text": [
            "I0309 23:32:00.243130 139752863999872 tpu_system_metadata.py:154] *** Available Device: _DeviceAttributes(/job:worker/replica:0/task:0/device:TPU:5, TPU, 17179869184, 4041186063180486278)\n"
          ],
          "name": "stderr"
        },
        {
          "output_type": "stream",
          "text": [
            "INFO:tensorflow:*** Available Device: _DeviceAttributes(/job:worker/replica:0/task:0/device:TPU:6, TPU, 17179869184, 7051489690465344933)\n"
          ],
          "name": "stdout"
        },
        {
          "output_type": "stream",
          "text": [
            "I0309 23:32:00.245513 139752863999872 tpu_system_metadata.py:154] *** Available Device: _DeviceAttributes(/job:worker/replica:0/task:0/device:TPU:6, TPU, 17179869184, 7051489690465344933)\n"
          ],
          "name": "stderr"
        },
        {
          "output_type": "stream",
          "text": [
            "INFO:tensorflow:*** Available Device: _DeviceAttributes(/job:worker/replica:0/task:0/device:TPU:7, TPU, 17179869184, 17165092992475049196)\n"
          ],
          "name": "stdout"
        },
        {
          "output_type": "stream",
          "text": [
            "I0309 23:32:00.248005 139752863999872 tpu_system_metadata.py:154] *** Available Device: _DeviceAttributes(/job:worker/replica:0/task:0/device:TPU:7, TPU, 17179869184, 17165092992475049196)\n"
          ],
          "name": "stderr"
        },
        {
          "output_type": "stream",
          "text": [
            "INFO:tensorflow:*** Available Device: _DeviceAttributes(/job:worker/replica:0/task:0/device:TPU_SYSTEM:0, TPU_SYSTEM, 8589934592, 16972376991937641397)\n"
          ],
          "name": "stdout"
        },
        {
          "output_type": "stream",
          "text": [
            "I0309 23:32:00.250303 139752863999872 tpu_system_metadata.py:154] *** Available Device: _DeviceAttributes(/job:worker/replica:0/task:0/device:TPU_SYSTEM:0, TPU_SYSTEM, 8589934592, 16972376991937641397)\n"
          ],
          "name": "stderr"
        },
        {
          "output_type": "stream",
          "text": [
            "INFO:tensorflow:*** Available Device: _DeviceAttributes(/job:worker/replica:0/task:0/device:XLA_CPU:0, XLA_CPU, 17179869184, 3395095972937578274)\n"
          ],
          "name": "stdout"
        },
        {
          "output_type": "stream",
          "text": [
            "I0309 23:32:00.252983 139752863999872 tpu_system_metadata.py:154] *** Available Device: _DeviceAttributes(/job:worker/replica:0/task:0/device:XLA_CPU:0, XLA_CPU, 17179869184, 3395095972937578274)\n"
          ],
          "name": "stderr"
        },
        {
          "output_type": "stream",
          "text": [
            "INFO:tensorflow:Calling model_fn.\n"
          ],
          "name": "stdout"
        },
        {
          "output_type": "stream",
          "text": [
            "I0309 23:32:00.287382 139752863999872 estimator.py:1148] Calling model_fn.\n"
          ],
          "name": "stderr"
        },
        {
          "output_type": "stream",
          "text": [
            "INFO:tensorflow:Create CheckpointSaverHook.\n"
          ],
          "name": "stdout"
        },
        {
          "output_type": "stream",
          "text": [
            "I0309 23:32:01.657542 139752863999872 basic_session_run_hooks.py:541] Create CheckpointSaverHook.\n"
          ],
          "name": "stderr"
        },
        {
          "output_type": "stream",
          "text": [
            "INFO:tensorflow:Done calling model_fn.\n"
          ],
          "name": "stdout"
        },
        {
          "output_type": "stream",
          "text": [
            "I0309 23:32:01.685034 139752863999872 estimator.py:1150] Done calling model_fn.\n"
          ],
          "name": "stderr"
        },
        {
          "output_type": "stream",
          "text": [
            "INFO:tensorflow:TPU job name worker\n"
          ],
          "name": "stdout"
        },
        {
          "output_type": "stream",
          "text": [
            "I0309 23:32:04.099316 139752863999872 tpu_estimator.py:506] TPU job name worker\n"
          ],
          "name": "stderr"
        },
        {
          "output_type": "stream",
          "text": [
            "INFO:tensorflow:Graph was finalized.\n"
          ],
          "name": "stdout"
        },
        {
          "output_type": "stream",
          "text": [
            "I0309 23:32:04.192491 139752863999872 monitored_session.py:240] Graph was finalized.\n"
          ],
          "name": "stderr"
        },
        {
          "output_type": "stream",
          "text": [
            "INFO:tensorflow:Running local_init_op.\n"
          ],
          "name": "stdout"
        },
        {
          "output_type": "stream",
          "text": [
            "I0309 23:32:04.593322 139752863999872 session_manager.py:500] Running local_init_op.\n"
          ],
          "name": "stderr"
        },
        {
          "output_type": "stream",
          "text": [
            "INFO:tensorflow:Done running local_init_op.\n"
          ],
          "name": "stdout"
        },
        {
          "output_type": "stream",
          "text": [
            "I0309 23:32:04.620788 139752863999872 session_manager.py:502] Done running local_init_op.\n"
          ],
          "name": "stderr"
        },
        {
          "output_type": "stream",
          "text": [
            "INFO:tensorflow:Saving checkpoints for 0 into gs://sweetc/tpuestimator-dnn/2020-03-09-23-31-58/model.ckpt.\n"
          ],
          "name": "stdout"
        },
        {
          "output_type": "stream",
          "text": [
            "I0309 23:32:06.119303 139752863999872 basic_session_run_hooks.py:606] Saving checkpoints for 0 into gs://sweetc/tpuestimator-dnn/2020-03-09-23-31-58/model.ckpt.\n"
          ],
          "name": "stderr"
        },
        {
          "output_type": "stream",
          "text": [
            "INFO:tensorflow:Initialized dataset iterators in 0 seconds\n"
          ],
          "name": "stdout"
        },
        {
          "output_type": "stream",
          "text": [
            "I0309 23:32:13.237623 139752863999872 util.py:98] Initialized dataset iterators in 0 seconds\n"
          ],
          "name": "stderr"
        },
        {
          "output_type": "stream",
          "text": [
            "INFO:tensorflow:Installing graceful shutdown hook.\n"
          ],
          "name": "stdout"
        },
        {
          "output_type": "stream",
          "text": [
            "I0309 23:32:13.240082 139752863999872 session_support.py:332] Installing graceful shutdown hook.\n"
          ],
          "name": "stderr"
        },
        {
          "output_type": "stream",
          "text": [
            "INFO:tensorflow:Creating heartbeat manager for ['/job:worker/replica:0/task:0/device:CPU:0']\n"
          ],
          "name": "stdout"
        },
        {
          "output_type": "stream",
          "text": [
            "I0309 23:32:13.247184 139752863999872 session_support.py:82] Creating heartbeat manager for ['/job:worker/replica:0/task:0/device:CPU:0']\n"
          ],
          "name": "stderr"
        },
        {
          "output_type": "stream",
          "text": [
            "INFO:tensorflow:Configuring worker heartbeat: shutdown_mode: WAIT_FOR_COORDINATOR\n",
            "\n"
          ],
          "name": "stdout"
        },
        {
          "output_type": "stream",
          "text": [
            "I0309 23:32:13.253119 139752863999872 session_support.py:105] Configuring worker heartbeat: shutdown_mode: WAIT_FOR_COORDINATOR\n",
            "\n"
          ],
          "name": "stderr"
        },
        {
          "output_type": "stream",
          "text": [
            "INFO:tensorflow:Init TPU system\n"
          ],
          "name": "stdout"
        },
        {
          "output_type": "stream",
          "text": [
            "I0309 23:32:13.260294 139752863999872 tpu_estimator.py:567] Init TPU system\n"
          ],
          "name": "stderr"
        },
        {
          "output_type": "stream",
          "text": [
            "INFO:tensorflow:Initialized TPU in 8 seconds\n"
          ],
          "name": "stdout"
        },
        {
          "output_type": "stream",
          "text": [
            "I0309 23:32:21.403126 139752863999872 tpu_estimator.py:576] Initialized TPU in 8 seconds\n"
          ],
          "name": "stderr"
        },
        {
          "output_type": "stream",
          "text": [
            "INFO:tensorflow:Starting infeed thread controller.\n"
          ],
          "name": "stdout"
        },
        {
          "output_type": "stream",
          "text": [
            "I0309 23:32:21.406059 139750911379200 tpu_estimator.py:521] Starting infeed thread controller.\n"
          ],
          "name": "stderr"
        },
        {
          "output_type": "stream",
          "text": [
            "INFO:tensorflow:Starting outfeed thread controller.\n"
          ],
          "name": "stdout"
        },
        {
          "output_type": "stream",
          "text": [
            "I0309 23:32:21.410019 139750902986496 tpu_estimator.py:540] Starting outfeed thread controller.\n"
          ],
          "name": "stderr"
        },
        {
          "output_type": "stream",
          "text": [
            "INFO:tensorflow:Enqueue next (500) batch(es) of data to infeed.\n"
          ],
          "name": "stdout"
        },
        {
          "output_type": "stream",
          "text": [
            "I0309 23:32:21.439931 139752863999872 tpu_estimator.py:600] Enqueue next (500) batch(es) of data to infeed.\n"
          ],
          "name": "stderr"
        },
        {
          "output_type": "stream",
          "text": [
            "INFO:tensorflow:Dequeue next (500) batch(es) of data from outfeed.\n"
          ],
          "name": "stdout"
        },
        {
          "output_type": "stream",
          "text": [
            "I0309 23:32:21.442045 139752863999872 tpu_estimator.py:604] Dequeue next (500) batch(es) of data from outfeed.\n"
          ],
          "name": "stderr"
        },
        {
          "output_type": "stream",
          "text": [
            "INFO:tensorflow:Outfeed finished for iteration (0, 0)\n"
          ],
          "name": "stdout"
        },
        {
          "output_type": "stream",
          "text": [
            "I0309 23:32:21.867841 139750902986496 tpu_estimator.py:279] Outfeed finished for iteration (0, 0)\n"
          ],
          "name": "stderr"
        },
        {
          "output_type": "stream",
          "text": [
            "INFO:tensorflow:loss = 0.0052012047, step = 500\n"
          ],
          "name": "stdout"
        },
        {
          "output_type": "stream",
          "text": [
            "I0309 23:32:23.081768 139752863999872 basic_session_run_hooks.py:262] loss = 0.0052012047, step = 500\n"
          ],
          "name": "stderr"
        },
        {
          "output_type": "stream",
          "text": [
            "INFO:tensorflow:Enqueue next (500) batch(es) of data to infeed.\n"
          ],
          "name": "stdout"
        },
        {
          "output_type": "stream",
          "text": [
            "I0309 23:32:23.090407 139752863999872 tpu_estimator.py:600] Enqueue next (500) batch(es) of data to infeed.\n"
          ],
          "name": "stderr"
        },
        {
          "output_type": "stream",
          "text": [
            "INFO:tensorflow:Dequeue next (500) batch(es) of data from outfeed.\n"
          ],
          "name": "stdout"
        },
        {
          "output_type": "stream",
          "text": [
            "I0309 23:32:23.094845 139752863999872 tpu_estimator.py:604] Dequeue next (500) batch(es) of data from outfeed.\n"
          ],
          "name": "stderr"
        },
        {
          "output_type": "stream",
          "text": [
            "INFO:tensorflow:loss = 0.0032541663, step = 1000 (1.324 sec)\n"
          ],
          "name": "stdout"
        },
        {
          "output_type": "stream",
          "text": [
            "I0309 23:32:24.405611 139752863999872 basic_session_run_hooks.py:260] loss = 0.0032541663, step = 1000 (1.324 sec)\n"
          ],
          "name": "stderr"
        },
        {
          "output_type": "stream",
          "text": [
            "INFO:tensorflow:global_step/sec: 377.562\n"
          ],
          "name": "stdout"
        },
        {
          "output_type": "stream",
          "text": [
            "I0309 23:32:24.413421 139752863999872 tpu_estimator.py:2307] global_step/sec: 377.562\n"
          ],
          "name": "stderr"
        },
        {
          "output_type": "stream",
          "text": [
            "INFO:tensorflow:examples/sec: 3020.5\n"
          ],
          "name": "stdout"
        },
        {
          "output_type": "stream",
          "text": [
            "I0309 23:32:24.415937 139752863999872 tpu_estimator.py:2308] examples/sec: 3020.5\n"
          ],
          "name": "stderr"
        },
        {
          "output_type": "stream",
          "text": [
            "INFO:tensorflow:Saving checkpoints for 1000 into gs://sweetc/tpuestimator-dnn/2020-03-09-23-31-58/model.ckpt.\n"
          ],
          "name": "stdout"
        },
        {
          "output_type": "stream",
          "text": [
            "I0309 23:32:24.426279 139752863999872 basic_session_run_hooks.py:606] Saving checkpoints for 1000 into gs://sweetc/tpuestimator-dnn/2020-03-09-23-31-58/model.ckpt.\n"
          ],
          "name": "stderr"
        },
        {
          "output_type": "stream",
          "text": [
            "INFO:tensorflow:Stop infeed thread controller\n"
          ],
          "name": "stdout"
        },
        {
          "output_type": "stream",
          "text": [
            "I0309 23:32:31.571301 139752863999872 tpu_estimator.py:608] Stop infeed thread controller\n"
          ],
          "name": "stderr"
        },
        {
          "output_type": "stream",
          "text": [
            "INFO:tensorflow:Shutting down InfeedController thread.\n"
          ],
          "name": "stdout"
        },
        {
          "output_type": "stream",
          "text": [
            "I0309 23:32:31.573330 139752863999872 tpu_estimator.py:434] Shutting down InfeedController thread.\n"
          ],
          "name": "stderr"
        },
        {
          "output_type": "stream",
          "text": [
            "INFO:tensorflow:InfeedController received shutdown signal, stopping.\n"
          ],
          "name": "stdout"
        },
        {
          "output_type": "stream",
          "text": [
            "I0309 23:32:31.581757 139750911379200 tpu_estimator.py:429] InfeedController received shutdown signal, stopping.\n"
          ],
          "name": "stderr"
        },
        {
          "output_type": "stream",
          "text": [
            "INFO:tensorflow:Infeed thread finished, shutting down.\n"
          ],
          "name": "stdout"
        },
        {
          "output_type": "stream",
          "text": [
            "I0309 23:32:31.583362 139750911379200 tpu_estimator.py:537] Infeed thread finished, shutting down.\n"
          ],
          "name": "stderr"
        },
        {
          "output_type": "stream",
          "text": [
            "INFO:tensorflow:infeed marked as finished\n"
          ],
          "name": "stdout"
        },
        {
          "output_type": "stream",
          "text": [
            "I0309 23:32:31.587958 139752863999872 error_handling.py:101] infeed marked as finished\n"
          ],
          "name": "stderr"
        },
        {
          "output_type": "stream",
          "text": [
            "INFO:tensorflow:Stop output thread controller\n"
          ],
          "name": "stdout"
        },
        {
          "output_type": "stream",
          "text": [
            "I0309 23:32:31.592226 139752863999872 tpu_estimator.py:612] Stop output thread controller\n"
          ],
          "name": "stderr"
        },
        {
          "output_type": "stream",
          "text": [
            "INFO:tensorflow:Shutting down OutfeedController thread.\n"
          ],
          "name": "stdout"
        },
        {
          "output_type": "stream",
          "text": [
            "I0309 23:32:31.595328 139752863999872 tpu_estimator.py:434] Shutting down OutfeedController thread.\n"
          ],
          "name": "stderr"
        },
        {
          "output_type": "stream",
          "text": [
            "INFO:tensorflow:OutfeedController received shutdown signal, stopping.\n"
          ],
          "name": "stdout"
        },
        {
          "output_type": "stream",
          "text": [
            "I0309 23:32:31.599849 139750902986496 tpu_estimator.py:429] OutfeedController received shutdown signal, stopping.\n"
          ],
          "name": "stderr"
        },
        {
          "output_type": "stream",
          "text": [
            "INFO:tensorflow:Outfeed thread finished, shutting down.\n"
          ],
          "name": "stdout"
        },
        {
          "output_type": "stream",
          "text": [
            "I0309 23:32:31.600889 139750902986496 tpu_estimator.py:551] Outfeed thread finished, shutting down.\n"
          ],
          "name": "stderr"
        },
        {
          "output_type": "stream",
          "text": [
            "INFO:tensorflow:outfeed marked as finished\n"
          ],
          "name": "stdout"
        },
        {
          "output_type": "stream",
          "text": [
            "I0309 23:32:31.602121 139752863999872 error_handling.py:101] outfeed marked as finished\n"
          ],
          "name": "stderr"
        },
        {
          "output_type": "stream",
          "text": [
            "INFO:tensorflow:Shutdown TPU system.\n"
          ],
          "name": "stdout"
        },
        {
          "output_type": "stream",
          "text": [
            "I0309 23:32:31.605324 139752863999872 tpu_estimator.py:616] Shutdown TPU system.\n"
          ],
          "name": "stderr"
        },
        {
          "output_type": "stream",
          "text": [
            "INFO:tensorflow:Loss for final step: 0.0032541663.\n"
          ],
          "name": "stdout"
        },
        {
          "output_type": "stream",
          "text": [
            "I0309 23:32:31.696572 139752863999872 estimator.py:371] Loss for final step: 0.0032541663.\n"
          ],
          "name": "stderr"
        },
        {
          "output_type": "stream",
          "text": [
            "INFO:tensorflow:training_loop marked as finished\n"
          ],
          "name": "stdout"
        },
        {
          "output_type": "stream",
          "text": [
            "I0309 23:32:31.698261 139752863999872 error_handling.py:101] training_loop marked as finished\n"
          ],
          "name": "stderr"
        },
        {
          "output_type": "error",
          "ename": "SystemExit",
          "evalue": "ignored",
          "traceback": [
            "An exception has occurred, use %tb to see the full traceback.\n",
            "\u001b[0;31mSystemExit\u001b[0m\n"
          ]
        },
        {
          "output_type": "stream",
          "text": [
            "/usr/local/lib/python3.6/dist-packages/IPython/core/interactiveshell.py:2890: UserWarning: To exit: use 'exit', 'quit', or Ctrl-D.\n",
            "  warn(\"To exit: use 'exit', 'quit', or Ctrl-D.\", stacklevel=1)\n"
          ],
          "name": "stderr"
        }
      ]
    }
  ]
}